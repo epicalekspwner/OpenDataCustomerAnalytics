{
  "nbformat": 4,
  "nbformat_minor": 0,
  "metadata": {
    "colab": {
      "provenance": [],
      "mount_file_id": "1Hfgp-a8wHRCJcw6GBSkXEJVxKEt87ohF",
      "authorship_tag": "ABX9TyNnRc4oYfm06TUnFCV/qH+x",
      "include_colab_link": true
    },
    "kernelspec": {
      "name": "python3",
      "display_name": "Python 3"
    },
    "language_info": {
      "name": "python"
    }
  },
  "cells": [
    {
      "cell_type": "markdown",
      "metadata": {
        "id": "view-in-github",
        "colab_type": "text"
      },
      "source": [
        "<a href=\"https://colab.research.google.com/github/epicalekspwner/OpenDataCustomerAnalytics/blob/main/equidsData/equidsSummering/src/srcPreProcessing_equidsSummering.ipynb\" target=\"_parent\"><img src=\"https://colab.research.google.com/assets/colab-badge.svg\" alt=\"Open In Colab\"/></a>"
      ]
    },
    {
      "cell_type": "markdown",
      "source": [
        "![OpenDataBanner](https://raw.githubusercontent.com/epicalekspwner/OpenDataCustomerAnalytics/main/_repoResources/bannerOpenDataCustomerAnalytics.svg)"
      ],
      "metadata": {
        "id": "mr7QcUmGJ_dE"
      }
    },
    {
      "cell_type": "code",
      "execution_count": 1,
      "metadata": {
        "id": "_8E027oCJzF_"
      },
      "outputs": [],
      "source": [
        "### Import Required Libraries\n",
        "import numpy as np\n",
        "import pandas as pd"
      ]
    },
    {
      "cell_type": "code",
      "source": [
        "### Import df\n",
        "df = pd.read_csv('/content/drive/MyDrive/Open Data/equids-summering-canton.csv', sep = ';')"
      ],
      "metadata": {
        "id": "Swqcag6rKCeE"
      },
      "execution_count": 2,
      "outputs": []
    },
    {
      "cell_type": "code",
      "source": [
        "### Drop Month After September \n",
        "df1 = df[df['Month'] <= 9]"
      ],
      "metadata": {
        "id": "cnuYcmc-MIvX"
      },
      "execution_count": 3,
      "outputs": []
    },
    {
      "cell_type": "code",
      "source": [
        "### Drop Month Prior to May\n",
        "df2 = df1[df1['Month'] >= 5]"
      ],
      "metadata": {
        "id": "htatb9ouMpum"
      },
      "execution_count": 4,
      "outputs": []
    },
    {
      "cell_type": "code",
      "source": [
        "### Drop Depreciated Column\n",
        "df2.drop(['Month'], axis = 1, inplace = True)"
      ],
      "metadata": {
        "colab": {
          "base_uri": "https://localhost:8080/"
        },
        "id": "M9FAMqX-KU2C",
        "outputId": "609f39ca-dcaf-4cf0-a9fa-96b07b5eeb99"
      },
      "execution_count": 5,
      "outputs": [
        {
          "output_type": "stream",
          "name": "stderr",
          "text": [
            "/usr/local/lib/python3.8/dist-packages/pandas/core/frame.py:4906: SettingWithCopyWarning: \n",
            "A value is trying to be set on a copy of a slice from a DataFrame\n",
            "\n",
            "See the caveats in the documentation: https://pandas.pydata.org/pandas-docs/stable/user_guide/indexing.html#returning-a-view-versus-a-copy\n",
            "  return super().drop(\n"
          ]
        }
      ]
    },
    {
      "cell_type": "code",
      "source": [
        "### Rename Column\n",
        "df2 = df2.rename(columns = {\n",
        "    '??': 'NaN',\n",
        "})"
      ],
      "metadata": {
        "id": "a9hOEbpCKWxR"
      },
      "execution_count": 6,
      "outputs": []
    },
    {
      "cell_type": "code",
      "source": [
        "### Replace NaN Values\n",
        "df2.fillna(0, inplace = True)"
      ],
      "metadata": {
        "id": "mL8eFDk7OBrx"
      },
      "execution_count": 7,
      "outputs": []
    },
    {
      "cell_type": "code",
      "source": [
        "### Compute Average per Year/Canton\n",
        "df2 = df2.groupby(['Year']).mean().round(0).astype(int)"
      ],
      "metadata": {
        "id": "oWRzygN1KYdx"
      },
      "execution_count": 8,
      "outputs": []
    },
    {
      "cell_type": "code",
      "source": [
        "### Compute National Census\n",
        "df2['CH'] = df2.sum(axis=1).astype(int)"
      ],
      "metadata": {
        "id": "CApwECZuKeQQ"
      },
      "execution_count": 9,
      "outputs": []
    },
    {
      "cell_type": "code",
      "source": [
        "### Visualize DataFrame\n",
        "df2"
      ],
      "metadata": {
        "colab": {
          "base_uri": "https://localhost:8080/",
          "height": 330
        },
        "id": "n08hS6zIKg2I",
        "outputId": "a89b13c0-b77c-40f5-b380-e4a42f588988"
      },
      "execution_count": 10,
      "outputs": [
        {
          "output_type": "execute_result",
          "data": {
            "text/plain": [
              "      AI  AR   BE   FR  GL    GR    JU  LU   NE  NW  ...  SG  SO   SZ   TI  \\\n",
              "Year                                                 ...                     \n",
              "2016   0   4  455  220  25   835    73   0   88  11  ...  43  58  104  101   \n",
              "2017   0   4  476  218  27   889  1109   5   88  18  ...  61  56  110  140   \n",
              "2018   0   8  699  203  28  1000  1239  13  100  16  ...  45  74  119  184   \n",
              "2019   0   9  737  239  24  1029  1217  16  117  21  ...  65  84  138  222   \n",
              "2020   0  12  658  265  25  1076  1152  13  113  13  ...  53  68  141  225   \n",
              "2021   4  11  648  221  23   980  1117  12  100  12  ...  57  58  138  223   \n",
              "2022   5  12  594  242  25  1053  1081  14  110  11  ...  59  85  147  202   \n",
              "\n",
              "      UR   VD   VS  ZG  NaN    CH  \n",
              "Year                               \n",
              "2016   9  140  179   0   17  2375  \n",
              "2017   7  184  200   0   73  3681  \n",
              "2018  11  175  284   0   42  4258  \n",
              "2019  11  166  315   0   21  4452  \n",
              "2020  11  181  326   0   20  4385  \n",
              "2021  11  178  223   0   26  4078  \n",
              "2022  26  175  216   0   18  4106  \n",
              "\n",
              "[7 rows x 21 columns]"
            ],
            "text/html": [
              "\n",
              "  <div id=\"df-c5db6c84-a058-4669-876f-6345cae96926\">\n",
              "    <div class=\"colab-df-container\">\n",
              "      <div>\n",
              "<style scoped>\n",
              "    .dataframe tbody tr th:only-of-type {\n",
              "        vertical-align: middle;\n",
              "    }\n",
              "\n",
              "    .dataframe tbody tr th {\n",
              "        vertical-align: top;\n",
              "    }\n",
              "\n",
              "    .dataframe thead th {\n",
              "        text-align: right;\n",
              "    }\n",
              "</style>\n",
              "<table border=\"1\" class=\"dataframe\">\n",
              "  <thead>\n",
              "    <tr style=\"text-align: right;\">\n",
              "      <th></th>\n",
              "      <th>AI</th>\n",
              "      <th>AR</th>\n",
              "      <th>BE</th>\n",
              "      <th>FR</th>\n",
              "      <th>GL</th>\n",
              "      <th>GR</th>\n",
              "      <th>JU</th>\n",
              "      <th>LU</th>\n",
              "      <th>NE</th>\n",
              "      <th>NW</th>\n",
              "      <th>...</th>\n",
              "      <th>SG</th>\n",
              "      <th>SO</th>\n",
              "      <th>SZ</th>\n",
              "      <th>TI</th>\n",
              "      <th>UR</th>\n",
              "      <th>VD</th>\n",
              "      <th>VS</th>\n",
              "      <th>ZG</th>\n",
              "      <th>NaN</th>\n",
              "      <th>CH</th>\n",
              "    </tr>\n",
              "    <tr>\n",
              "      <th>Year</th>\n",
              "      <th></th>\n",
              "      <th></th>\n",
              "      <th></th>\n",
              "      <th></th>\n",
              "      <th></th>\n",
              "      <th></th>\n",
              "      <th></th>\n",
              "      <th></th>\n",
              "      <th></th>\n",
              "      <th></th>\n",
              "      <th></th>\n",
              "      <th></th>\n",
              "      <th></th>\n",
              "      <th></th>\n",
              "      <th></th>\n",
              "      <th></th>\n",
              "      <th></th>\n",
              "      <th></th>\n",
              "      <th></th>\n",
              "      <th></th>\n",
              "      <th></th>\n",
              "    </tr>\n",
              "  </thead>\n",
              "  <tbody>\n",
              "    <tr>\n",
              "      <th>2016</th>\n",
              "      <td>0</td>\n",
              "      <td>4</td>\n",
              "      <td>455</td>\n",
              "      <td>220</td>\n",
              "      <td>25</td>\n",
              "      <td>835</td>\n",
              "      <td>73</td>\n",
              "      <td>0</td>\n",
              "      <td>88</td>\n",
              "      <td>11</td>\n",
              "      <td>...</td>\n",
              "      <td>43</td>\n",
              "      <td>58</td>\n",
              "      <td>104</td>\n",
              "      <td>101</td>\n",
              "      <td>9</td>\n",
              "      <td>140</td>\n",
              "      <td>179</td>\n",
              "      <td>0</td>\n",
              "      <td>17</td>\n",
              "      <td>2375</td>\n",
              "    </tr>\n",
              "    <tr>\n",
              "      <th>2017</th>\n",
              "      <td>0</td>\n",
              "      <td>4</td>\n",
              "      <td>476</td>\n",
              "      <td>218</td>\n",
              "      <td>27</td>\n",
              "      <td>889</td>\n",
              "      <td>1109</td>\n",
              "      <td>5</td>\n",
              "      <td>88</td>\n",
              "      <td>18</td>\n",
              "      <td>...</td>\n",
              "      <td>61</td>\n",
              "      <td>56</td>\n",
              "      <td>110</td>\n",
              "      <td>140</td>\n",
              "      <td>7</td>\n",
              "      <td>184</td>\n",
              "      <td>200</td>\n",
              "      <td>0</td>\n",
              "      <td>73</td>\n",
              "      <td>3681</td>\n",
              "    </tr>\n",
              "    <tr>\n",
              "      <th>2018</th>\n",
              "      <td>0</td>\n",
              "      <td>8</td>\n",
              "      <td>699</td>\n",
              "      <td>203</td>\n",
              "      <td>28</td>\n",
              "      <td>1000</td>\n",
              "      <td>1239</td>\n",
              "      <td>13</td>\n",
              "      <td>100</td>\n",
              "      <td>16</td>\n",
              "      <td>...</td>\n",
              "      <td>45</td>\n",
              "      <td>74</td>\n",
              "      <td>119</td>\n",
              "      <td>184</td>\n",
              "      <td>11</td>\n",
              "      <td>175</td>\n",
              "      <td>284</td>\n",
              "      <td>0</td>\n",
              "      <td>42</td>\n",
              "      <td>4258</td>\n",
              "    </tr>\n",
              "    <tr>\n",
              "      <th>2019</th>\n",
              "      <td>0</td>\n",
              "      <td>9</td>\n",
              "      <td>737</td>\n",
              "      <td>239</td>\n",
              "      <td>24</td>\n",
              "      <td>1029</td>\n",
              "      <td>1217</td>\n",
              "      <td>16</td>\n",
              "      <td>117</td>\n",
              "      <td>21</td>\n",
              "      <td>...</td>\n",
              "      <td>65</td>\n",
              "      <td>84</td>\n",
              "      <td>138</td>\n",
              "      <td>222</td>\n",
              "      <td>11</td>\n",
              "      <td>166</td>\n",
              "      <td>315</td>\n",
              "      <td>0</td>\n",
              "      <td>21</td>\n",
              "      <td>4452</td>\n",
              "    </tr>\n",
              "    <tr>\n",
              "      <th>2020</th>\n",
              "      <td>0</td>\n",
              "      <td>12</td>\n",
              "      <td>658</td>\n",
              "      <td>265</td>\n",
              "      <td>25</td>\n",
              "      <td>1076</td>\n",
              "      <td>1152</td>\n",
              "      <td>13</td>\n",
              "      <td>113</td>\n",
              "      <td>13</td>\n",
              "      <td>...</td>\n",
              "      <td>53</td>\n",
              "      <td>68</td>\n",
              "      <td>141</td>\n",
              "      <td>225</td>\n",
              "      <td>11</td>\n",
              "      <td>181</td>\n",
              "      <td>326</td>\n",
              "      <td>0</td>\n",
              "      <td>20</td>\n",
              "      <td>4385</td>\n",
              "    </tr>\n",
              "    <tr>\n",
              "      <th>2021</th>\n",
              "      <td>4</td>\n",
              "      <td>11</td>\n",
              "      <td>648</td>\n",
              "      <td>221</td>\n",
              "      <td>23</td>\n",
              "      <td>980</td>\n",
              "      <td>1117</td>\n",
              "      <td>12</td>\n",
              "      <td>100</td>\n",
              "      <td>12</td>\n",
              "      <td>...</td>\n",
              "      <td>57</td>\n",
              "      <td>58</td>\n",
              "      <td>138</td>\n",
              "      <td>223</td>\n",
              "      <td>11</td>\n",
              "      <td>178</td>\n",
              "      <td>223</td>\n",
              "      <td>0</td>\n",
              "      <td>26</td>\n",
              "      <td>4078</td>\n",
              "    </tr>\n",
              "    <tr>\n",
              "      <th>2022</th>\n",
              "      <td>5</td>\n",
              "      <td>12</td>\n",
              "      <td>594</td>\n",
              "      <td>242</td>\n",
              "      <td>25</td>\n",
              "      <td>1053</td>\n",
              "      <td>1081</td>\n",
              "      <td>14</td>\n",
              "      <td>110</td>\n",
              "      <td>11</td>\n",
              "      <td>...</td>\n",
              "      <td>59</td>\n",
              "      <td>85</td>\n",
              "      <td>147</td>\n",
              "      <td>202</td>\n",
              "      <td>26</td>\n",
              "      <td>175</td>\n",
              "      <td>216</td>\n",
              "      <td>0</td>\n",
              "      <td>18</td>\n",
              "      <td>4106</td>\n",
              "    </tr>\n",
              "  </tbody>\n",
              "</table>\n",
              "<p>7 rows × 21 columns</p>\n",
              "</div>\n",
              "      <button class=\"colab-df-convert\" onclick=\"convertToInteractive('df-c5db6c84-a058-4669-876f-6345cae96926')\"\n",
              "              title=\"Convert this dataframe to an interactive table.\"\n",
              "              style=\"display:none;\">\n",
              "        \n",
              "  <svg xmlns=\"http://www.w3.org/2000/svg\" height=\"24px\"viewBox=\"0 0 24 24\"\n",
              "       width=\"24px\">\n",
              "    <path d=\"M0 0h24v24H0V0z\" fill=\"none\"/>\n",
              "    <path d=\"M18.56 5.44l.94 2.06.94-2.06 2.06-.94-2.06-.94-.94-2.06-.94 2.06-2.06.94zm-11 1L8.5 8.5l.94-2.06 2.06-.94-2.06-.94L8.5 2.5l-.94 2.06-2.06.94zm10 10l.94 2.06.94-2.06 2.06-.94-2.06-.94-.94-2.06-.94 2.06-2.06.94z\"/><path d=\"M17.41 7.96l-1.37-1.37c-.4-.4-.92-.59-1.43-.59-.52 0-1.04.2-1.43.59L10.3 9.45l-7.72 7.72c-.78.78-.78 2.05 0 2.83L4 21.41c.39.39.9.59 1.41.59.51 0 1.02-.2 1.41-.59l7.78-7.78 2.81-2.81c.8-.78.8-2.07 0-2.86zM5.41 20L4 18.59l7.72-7.72 1.47 1.35L5.41 20z\"/>\n",
              "  </svg>\n",
              "      </button>\n",
              "      \n",
              "  <style>\n",
              "    .colab-df-container {\n",
              "      display:flex;\n",
              "      flex-wrap:wrap;\n",
              "      gap: 12px;\n",
              "    }\n",
              "\n",
              "    .colab-df-convert {\n",
              "      background-color: #E8F0FE;\n",
              "      border: none;\n",
              "      border-radius: 50%;\n",
              "      cursor: pointer;\n",
              "      display: none;\n",
              "      fill: #1967D2;\n",
              "      height: 32px;\n",
              "      padding: 0 0 0 0;\n",
              "      width: 32px;\n",
              "    }\n",
              "\n",
              "    .colab-df-convert:hover {\n",
              "      background-color: #E2EBFA;\n",
              "      box-shadow: 0px 1px 2px rgba(60, 64, 67, 0.3), 0px 1px 3px 1px rgba(60, 64, 67, 0.15);\n",
              "      fill: #174EA6;\n",
              "    }\n",
              "\n",
              "    [theme=dark] .colab-df-convert {\n",
              "      background-color: #3B4455;\n",
              "      fill: #D2E3FC;\n",
              "    }\n",
              "\n",
              "    [theme=dark] .colab-df-convert:hover {\n",
              "      background-color: #434B5C;\n",
              "      box-shadow: 0px 1px 3px 1px rgba(0, 0, 0, 0.15);\n",
              "      filter: drop-shadow(0px 1px 2px rgba(0, 0, 0, 0.3));\n",
              "      fill: #FFFFFF;\n",
              "    }\n",
              "  </style>\n",
              "\n",
              "      <script>\n",
              "        const buttonEl =\n",
              "          document.querySelector('#df-c5db6c84-a058-4669-876f-6345cae96926 button.colab-df-convert');\n",
              "        buttonEl.style.display =\n",
              "          google.colab.kernel.accessAllowed ? 'block' : 'none';\n",
              "\n",
              "        async function convertToInteractive(key) {\n",
              "          const element = document.querySelector('#df-c5db6c84-a058-4669-876f-6345cae96926');\n",
              "          const dataTable =\n",
              "            await google.colab.kernel.invokeFunction('convertToInteractive',\n",
              "                                                     [key], {});\n",
              "          if (!dataTable) return;\n",
              "\n",
              "          const docLinkHtml = 'Like what you see? Visit the ' +\n",
              "            '<a target=\"_blank\" href=https://colab.research.google.com/notebooks/data_table.ipynb>data table notebook</a>'\n",
              "            + ' to learn more about interactive tables.';\n",
              "          element.innerHTML = '';\n",
              "          dataTable['output_type'] = 'display_data';\n",
              "          await google.colab.output.renderOutput(dataTable, element);\n",
              "          const docLink = document.createElement('div');\n",
              "          docLink.innerHTML = docLinkHtml;\n",
              "          element.appendChild(docLink);\n",
              "        }\n",
              "      </script>\n",
              "    </div>\n",
              "  </div>\n",
              "  "
            ]
          },
          "metadata": {},
          "execution_count": 10
        }
      ]
    },
    {
      "cell_type": "code",
      "source": [
        "### Export DataFrame\n",
        "df2.to_csv('/content/drive/MyDrive/Open Data/equidsSummering.csv', index = False)"
      ],
      "metadata": {
        "id": "9E2LVmJ0KilV"
      },
      "execution_count": 11,
      "outputs": []
    }
  ]
}